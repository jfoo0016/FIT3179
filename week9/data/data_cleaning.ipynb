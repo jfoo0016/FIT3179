{
 "cells": [
  {
   "cell_type": "markdown",
   "metadata": {},
   "source": [
    "# Data cleaning to rename country names that are formatted differently"
   ]
  },
  {
   "cell_type": "code",
   "execution_count": 12,
   "metadata": {},
   "outputs": [],
   "source": [
    "# read the two csv files \n",
    "import pandas as pd\n",
    "import numpy as np\n",
    "natural_earth_df = pd.read_csv('C:/Users/FooJacky/Documents/2022 Sem 2/FIT3179/week9 lab/FIT3179/week9/data/country.csv')\n",
    "\n",
    "kaggle_dataset_df = pd.read_csv('C:/Users/FooJacky/Documents/2022 Sem 2/FIT3179/week9 lab/FIT3179/week9/data/week9_lab_covid_data.csv')"
   ]
  },
  {
   "cell_type": "code",
   "execution_count": 13,
   "metadata": {},
   "outputs": [
    {
     "name": "stdout",
     "output_type": "stream",
     "text": [
      "Countries in Kaggle dataset but not in Natural Earth dataset\n",
      "['Somalia', 'Falkland Is.', 'Fr. S. Antarctic Lands', 'Puerto Rico', 'eSwatini', 'North Korea', 'Turkmenistan', 'Solomon Is.', 'Antarctica', 'N. Cyprus', 'North Macedonia', 'Kosovo', 'Trinidad and Tobago', 'S. Sudan']\n"
     ]
    }
   ],
   "source": [
    "# Identify the differences\n",
    "print(\"Countries in Kaggle dataset but not in Natural Earth dataset\")\n",
    "print([x for x in natural_earth_df.country.unique() if x not in kaggle_dataset_df.country.unique()])"
   ]
  },
  {
   "cell_type": "markdown",
   "metadata": {},
   "source": [
    "# Once we know the difference, we try to manually change the names and run the code again to check for any other differences that can be fixed"
   ]
  }
 ],
 "metadata": {
  "kernelspec": {
   "display_name": "Python 3.9.12 ('base')",
   "language": "python",
   "name": "python3"
  },
  "language_info": {
   "codemirror_mode": {
    "name": "ipython",
    "version": 3
   },
   "file_extension": ".py",
   "mimetype": "text/x-python",
   "name": "python",
   "nbconvert_exporter": "python",
   "pygments_lexer": "ipython3",
   "version": "3.9.12"
  },
  "orig_nbformat": 4,
  "vscode": {
   "interpreter": {
    "hash": "d9df16fd60331bb2620fa31debe3e8037feec6f388d643b18be5ed7151b62003"
   }
  }
 },
 "nbformat": 4,
 "nbformat_minor": 2
}
